{
 "cells": [
  {
   "cell_type": "code",
   "execution_count": 1,
   "metadata": {
    "collapsed": true
   },
   "outputs": [],
   "source": [
    "import gdal"
   ]
  },
  {
   "cell_type": "code",
   "execution_count": 2,
   "metadata": {
    "collapsed": false
   },
   "outputs": [
    {
     "name": "stdout",
     "output_type": "stream",
     "text": [
      " Volume in drive D is #D\n",
      " Volume Serial Number is DC4B-7055\n",
      "\n",
      " Directory of D:\\source\\playfield\\py\\gdal\n",
      "\n",
      "03/01/2016  11:38 AM    <DIR>          .\n",
      "03/01/2016  11:38 AM    <DIR>          ..\n",
      "03/01/2016  11:32 AM    <DIR>          .ipynb_checkpoints\n",
      "02/22/2016  04:50 PM               549 coord-of-first-pxl.py\n",
      "02/24/2016  04:36 PM             2,776 cut-image-by-kiev.py\n",
      "02/22/2016  03:31 PM             1,007 grid-tiling.py\n",
      "02/24/2016  04:36 PM            76,195 kiev.jpg\n",
      "02/24/2016  04:36 PM         1,965,409 kiev.tif\n",
      "02/22/2016  04:23 PM         3,830,911 n100x100.tif\n",
      "03/01/2016  11:36 AM             2,709 notebook-testing.ipynb\n",
      "02/19/2016  11:05 AM    <DIR>          osm-to-qgis\n",
      "02/22/2016  10:22 AM    <DIR>          projection\n",
      "02/22/2016  02:37 PM             1,363 read-raster.py\n",
      "02/22/2016  03:32 PM    <DIR>          ukraine-rasters\n",
      "02/19/2016  12:08 PM               770 visicom-tiles.py\n",
      "               9 File(s)      5,881,689 bytes\n",
      "               6 Dir(s)  733,762,646,016 bytes free\n"
     ]
    }
   ],
   "source": [
    "ls"
   ]
  },
  {
   "cell_type": "code",
   "execution_count": 3,
   "metadata": {
    "collapsed": false
   },
   "outputs": [],
   "source": [
    "tif = gdal.Open('kiev.tif')"
   ]
  },
  {
   "cell_type": "code",
   "execution_count": 4,
   "metadata": {
    "collapsed": false
   },
   "outputs": [
    {
     "data": {
      "text/plain": [
       "(284995.2406006397, 30.0, 0.0, 5654125.412922966, 0.0, -30.0)"
      ]
     },
     "execution_count": 4,
     "metadata": {},
     "output_type": "execute_result"
    }
   ],
   "source": [
    "tif.GetGeoTransform()"
   ]
  },
  {
   "cell_type": "code",
   "execution_count": 10,
   "metadata": {
    "collapsed": false
   },
   "outputs": [
    {
     "data": {
      "text/plain": [
       "array([ 0.        ,  0.22222222,  0.44444444,  0.66666667,  0.88888889,\n",
       "        1.11111111,  1.33333333,  1.55555556,  1.77777778,  2.        ])"
      ]
     },
     "execution_count": 10,
     "metadata": {},
     "output_type": "execute_result"
    }
   ],
   "source": [
    "import numpy as np\n",
    "\n",
    "np.linspace(0,2,10)"
   ]
  }
 ],
 "metadata": {
  "kernelspec": {
   "display_name": "Python 2",
   "language": "python",
   "name": "python2"
  },
  "language_info": {
   "codemirror_mode": {
    "name": "ipython",
    "version": 2
   },
   "file_extension": ".py",
   "mimetype": "text/x-python",
   "name": "python",
   "nbconvert_exporter": "python",
   "pygments_lexer": "ipython2",
   "version": "2.7.11"
  }
 },
 "nbformat": 4,
 "nbformat_minor": 0
}
